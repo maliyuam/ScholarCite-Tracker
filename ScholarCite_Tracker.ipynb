{
  "nbformat": 4,
  "nbformat_minor": 0,
  "metadata": {
    "colab": {
      "provenance": []
    },
    "kernelspec": {
      "name": "python3",
      "display_name": "Python 3"
    },
    "language_info": {
      "name": "python"
    }
  },
  "cells": [
    {
      "cell_type": "code",
      "execution_count": 30,
      "metadata": {
        "colab": {
          "base_uri": "https://localhost:8080/"
        },
        "id": "a83a5UTWY32U",
        "outputId": "ab5b62fe-5165-49de-ac48-754b16dcd7a3"
      },
      "outputs": [
        {
          "output_type": "stream",
          "name": "stdout",
          "text": [
            "Requirement already satisfied: openpyxl in /usr/local/lib/python3.10/dist-packages (3.1.5)\n",
            "Requirement already satisfied: et-xmlfile in /usr/local/lib/python3.10/dist-packages (from openpyxl) (1.1.0)\n"
          ]
        }
      ],
      "source": [
        "!pip install -q requests\n",
        "!pip install -q beautifulsoup4\n",
        "!pip install -q pandas\n",
        "!pip install openpyxl"
      ]
    },
    {
      "cell_type": "code",
      "source": [
        "import requests\n",
        "from bs4 import BeautifulSoup\n",
        "import pandas as pd\n",
        "from datetime import datetime"
      ],
      "metadata": {
        "id": "Cxq0KAGGY7IS"
      },
      "execution_count": 31,
      "outputs": []
    },
    {
      "cell_type": "code",
      "source": [
        "def get_top_cited_papers(query):\n",
        "    headers = {'User-Agent': 'Mozilla/5.0 (Windows NT 10.0; Win64; x64) AppleWebKit/537.36 (KHTML, like Gecko) Chrome/58.0.3029.110 Safari/537.3'}\n",
        "    url = f\"https://scholar.google.com/scholar?hl=en&q={query}\"\n",
        "    response = requests.get(url, headers=headers)\n",
        "    soup = BeautifulSoup(response.text, 'html.parser')\n",
        "    results = soup.find_all('div', class_='gs_ri')\n",
        "\n",
        "    current_year = datetime.now().year\n",
        "    papers = []\n",
        "\n",
        "    for result in results:\n",
        "        title_element = result.find('h3', class_='gs_rt')\n",
        "        if title_element is None:\n",
        "            continue\n",
        "        title = title_element.text\n",
        "        link = title_element.a['href'] if title_element.a else 'No link available'\n",
        "\n",
        "        abstract = result.find('div', class_='gs_rs')\n",
        "        abstract_text = abstract.text if abstract else \"No abstract available\"\n",
        "\n",
        "        citation_element = result.find('div', class_='gs_fl').find_all('a')\n",
        "        cites_text = citation_element[2].text if len(citation_element) > 2 else \"Cited by 0\"\n",
        "        num_cites = int(cites_text.split(' ')[2]) if 'Cited by' in cites_text else 0\n",
        "\n",
        "        author_info = result.find('div', class_='gs_a').text\n",
        "        year = next((int(s) for s in author_info.split() if s.isdigit()), None)\n",
        "\n",
        "        if year and (current_year - year <= 20):\n",
        "            papers.append({\n",
        "                'Title': title,\n",
        "                'Abstract': abstract_text,\n",
        "                'Link': link,\n",
        "                'Cited by': num_cites,\n",
        "                'Publication Year': year\n",
        "            })\n",
        "\n",
        "    papers_df = pd.DataFrame(papers)\n",
        "    sorted_papers_df = papers_df.sort_values(by='Cited by', ascending=False).head(20)\n",
        "\n",
        "    # Write DataFrame to an Excel file\n",
        "    sorted_papers_df.to_excel('top_cited_papers.xlsx', index=False)\n",
        "\n",
        "    return sorted_papers_df"
      ],
      "metadata": {
        "id": "JwGfzmqgczQa"
      },
      "execution_count": 43,
      "outputs": []
    },
    {
      "cell_type": "code",
      "source": [
        "query = \"GenAI and African Entrepreneurship\"\n",
        "result_df = get_top_cited_papers(query)\n",
        "print(result_df)"
      ],
      "metadata": {
        "colab": {
          "base_uri": "https://localhost:8080/"
        },
        "id": "FYtpWAFRc9qK",
        "outputId": "e2c20017-da04-470e-e46a-801db6edd61a"
      },
      "execution_count": 44,
      "outputs": [
        {
          "output_type": "stream",
          "name": "stdout",
          "text": [
            "                                               Title  \\\n",
            "2  [HTML][HTML] Drivers of generative AI adoption...   \n",
            "4  Why and how is the power of Big Tech increasin...   \n",
            "0  Preparing the next generation: Integrating gen...   \n",
            "1  Exploring the Transformative Journey of Academ...   \n",
            "3  [BOOK][B] Innovation and Entrepreneurship from...   \n",
            "5  Attracting Investment and Reducing Poverty in ...   \n",
            "6  The Role of Generative Artificial Intelligence...   \n",
            "7  Robots vs. Predators: Can Generative Artificia...   \n",
            "8  Making Sense of the Information Needs for Acqu...   \n",
            "\n",
            "                                            Abstract  \\\n",
            "2  … intention to use GenAI tools, and how the la...   \n",
            "4  … of its GenAI tools) and Anthropic (investmen...   \n",
            "0  … following positions concerning GenAI’s place...   \n",
            "1  … Using a comparative approach, this study loo...   \n",
            "3  … We will then turn to entrepreneurship and en...   \n",
            "5  Africa’s greatest assets are its young and dyn...   \n",
            "6  … An advanced form of artificial intelligence ...   \n",
            "7  … of generative artificial intelligence (GenAI...   \n",
            "8  … immigrants must be considered in the context...   \n",
            "\n",
            "                                                Link  Cited by  \\\n",
            "2  https://www.sciencedirect.com/science/article/...         8   \n",
            "4  https://academic.oup.com/policyandsociety/adva...         7   \n",
            "0                 https://eprints.qut.edu.au/248509/         0   \n",
            "1  https://www.sciencedirect.com/science/article/...         0   \n",
            "3  https://books.google.com/books?hl=en&lr=&id=bd...         0   \n",
            "5  https://www.taylorfrancis.com/chapters/edit/10...         0   \n",
            "6  https://link.springer.com/chapter/10.1007/978-...         0   \n",
            "7  https://papers.ssrn.com/sol3/papers.cfm?abstra...         0   \n",
            "8  https://search.proquest.com/openview/b8e64d7e0...         0   \n",
            "\n",
            "   Publication Year  \n",
            "2              2024  \n",
            "4              2024  \n",
            "0              2024  \n",
            "1              2024  \n",
            "3              2024  \n",
            "5              2024  \n",
            "6              2023  \n",
            "7              2024  \n",
            "8              2015  \n"
          ]
        }
      ]
    },
    {
      "cell_type": "code",
      "source": [],
      "metadata": {
        "id": "wtyhoU10fCrd"
      },
      "execution_count": null,
      "outputs": []
    }
  ]
}